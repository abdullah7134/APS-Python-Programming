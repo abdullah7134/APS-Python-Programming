{
 "cells": [
  {
   "cell_type": "code",
   "execution_count": 3,
   "metadata": {},
   "outputs": [
    {
     "name": "stdout",
     "output_type": "stream",
     "text": [
      "Zunaib 20\n"
     ]
    }
   ],
   "source": [
    "#Task-01\n",
    "\n",
    "def stuinfo(name, age):\n",
    "    print(name, age)\n",
    "\n",
    "stuinfo(\"Zunaib\", 20)"
   ]
  },
  {
   "cell_type": "code",
   "execution_count": 5,
   "metadata": {},
   "outputs": [
    {
     "name": "stdout",
     "output_type": "stream",
     "text": [
      "Zunaib 20\n"
     ]
    }
   ],
   "source": [
    "#Taks-02\n",
    "\n",
    "def stuinfo(name, age):\n",
    "    print(name, age)\n",
    "    \n",
    "showstuinfo = stuinfo\n",
    "\n",
    "showstuinfo(\"Zunaib\", 20)"
   ]
  },
  {
   "cell_type": "markdown",
   "metadata": {},
   "source": [
    "# While Loop"
   ]
  },
  {
   "cell_type": "code",
   "execution_count": 12,
   "metadata": {},
   "outputs": [
    {
     "name": "stdout",
     "output_type": "stream",
     "text": [
      "Write a number: 5\n",
      "5  x  1  =  5\n",
      "5  x  2  =  10\n",
      "5  x  3  =  15\n",
      "5  x  4  =  20\n",
      "5  x  5  =  25\n",
      "5  x  6  =  30\n",
      "5  x  7  =  35\n",
      "5  x  8  =  40\n",
      "5  x  9  =  45\n",
      "5  x  10  =  50\n"
     ]
    }
   ],
   "source": [
    "x = int(input(\"Write a number: \"))\n",
    "a = 1\n",
    "\n",
    "while a <= 10:\n",
    "    print(x, \" x \", a, \" = \", a*x)\n",
    "    a += 1"
   ]
  },
  {
   "cell_type": "code",
   "execution_count": 10,
   "metadata": {},
   "outputs": [
    {
     "name": "stdout",
     "output_type": "stream",
     "text": [
      "Write a number: 4\n",
      "4  x  1  =  4\n",
      "4  x  2  =  8\n",
      "4  x  3  =  12\n",
      "4  x  4  =  16\n",
      "4  x  5  =  20\n"
     ]
    }
   ],
   "source": [
    "x = int(input(\"Write a number: \"))\n",
    "a = 1\n",
    "\n",
    "while a <= 10:\n",
    "\n",
    "    print(x, \" x \", a, \" = \", a*x)    \n",
    "    if a == 5:\n",
    "        break\n",
    "    a += 1        "
   ]
  },
  {
   "cell_type": "code",
   "execution_count": 14,
   "metadata": {},
   "outputs": [
    {
     "name": "stdout",
     "output_type": "stream",
     "text": [
      "Enter a city, or q to quit:Karachi\n",
      "It's one of the cleanest cities\n",
      "Enter a city, or q to quit:Islamabad\n",
      "It's one of the cleanest cities\n",
      "Enter a city, or q to quit:Multan\n",
      "Enter a city, or q to quit:Lahore\n",
      "It's one of the cleanest cities\n",
      "Enter a city, or q to quit:q\n"
     ]
    }
   ],
   "source": [
    "cleanest_cities = [\"Karachi\", \"Islamabad\", \"Lahore\"]\n",
    "\n",
    "user_input = \" \"\n",
    "\n",
    "while user_input != \"q\":\n",
    "    \n",
    "    user_input = input(\"Enter a city, or q to quit:\")\n",
    "    \n",
    "    if user_input != \"q\":\n",
    "        \n",
    "        for a_clean_city in cleanest_cities:\n",
    "            \n",
    "            if user_input == a_clean_city:\n",
    "                \n",
    "                print(\"It's one of the cleanest cities\")\n",
    "                \n",
    "                break\n"
   ]
  },
  {
   "cell_type": "code",
   "execution_count": 15,
   "metadata": {},
   "outputs": [
    {
     "name": "stdout",
     "output_type": "stream",
     "text": [
      "salam\n"
     ]
    },
    {
     "data": {
      "text/plain": [
       "'Bilal Ahmed'"
      ]
     },
     "execution_count": 15,
     "metadata": {},
     "output_type": "execute_result"
    }
   ],
   "source": [
    "def say_something():\n",
    "    what_to_say = \"salam\"\n",
    "    print(what_to_say)\n",
    "    \n",
    " \n",
    "def full_name(first, last):\n",
    "    fullName = first + last\n",
    "    \n",
    "    say_something()\n",
    "    \n",
    "    return fullName\n",
    "\n",
    "    \n",
    "full_name(\"Bilal \", \"Ahmed\")"
   ]
  },
  {
   "cell_type": "code",
   "execution_count": 18,
   "metadata": {},
   "outputs": [
    {
     "name": "stdout",
     "output_type": "stream",
     "text": [
      "Enter a city, or q to quit:Lahore\n",
      "It's one of the cleanest cities\n",
      "Enter a city, or q to quit:Karachi\n",
      "It's one of the cleanest cities\n",
      "Enter a city, or q to quit:multan\n",
      "Enter a city, or q to quit:q\n"
     ]
    }
   ],
   "source": [
    "cleanest_cities = [\"Karachi\", \"Islamabad\", \"Lahore\"]\n",
    "\n",
    "keep_looping = True\n",
    "\n",
    "while keep_looping == True:\n",
    "    \n",
    "    user_input = input(\"Enter a city, or q to quit:\")\n",
    "    \n",
    "    if user_input != \"q\":\n",
    "        \n",
    "        for a_clean_city in cleanest_cities:\n",
    "            \n",
    "            if user_input == a_clean_city:\n",
    "                \n",
    "                print(\"It's one of the cleanest cities\")\n",
    "                \n",
    "                break\n",
    "    else:\n",
    "        keep_looping = False\n",
    "\n"
   ]
  },
  {
   "cell_type": "markdown",
   "metadata": {},
   "source": [
    "# Classes"
   ]
  },
  {
   "cell_type": "code",
   "execution_count": 35,
   "metadata": {},
   "outputs": [
    {
     "data": {
      "text/plain": [
       "'\\n\\n\\n\\nzunaib.name = \"Zunaib\"\\nzunaib.age = 20\\nzunaib.salary = 15000\\n\\n\\nbilal.name = \"Bilal\"\\nbilal.age = 22\\nbilal.salary = 25000\\n'"
      ]
     },
     "execution_count": 35,
     "metadata": {},
     "output_type": "execute_result"
    }
   ],
   "source": [
    "class Employee:\n",
    "    \n",
    "    no_of_leaves = 8\n",
    "    \n",
    "    def __init__(self, name, age, salary):\n",
    "        self.name = name\n",
    "        self.age = age\n",
    "        self.salary = salary       \n",
    "\n",
    "\n",
    "zunaib = Employee(\"Zunaib\", 20, 12000)\n",
    "\n",
    "bilal = Employee(\"Bilal\", 15, 8000)\n",
    "\n",
    "\n",
    "'''\n",
    "zunaib.name = \"Zunaib\"\n",
    "zunaib.age = 20\n",
    "zunaib.salary = 15000\n",
    "\n",
    "\n",
    "bilal.name = \"Bilal\"\n",
    "bilal.age = 22\n",
    "bilal.salary = 25000\n",
    "'''\n"
   ]
  },
  {
   "cell_type": "code",
   "execution_count": 31,
   "metadata": {},
   "outputs": [
    {
     "name": "stdout",
     "output_type": "stream",
     "text": [
      "12000 20 Zunaib\n",
      "Bilal 15 8000\n"
     ]
    }
   ],
   "source": [
    "print(zunaib.salary, zunaib.age, zunaib.name)\n",
    "print(bilal.name, bilal.age, bilal.salary)"
   ]
  },
  {
   "cell_type": "code",
   "execution_count": 36,
   "metadata": {},
   "outputs": [
    {
     "data": {
      "text/plain": [
       "8"
      ]
     },
     "execution_count": 36,
     "metadata": {},
     "output_type": "execute_result"
    }
   ],
   "source": [
    "zunaib.no_of_leaves"
   ]
  },
  {
   "cell_type": "code",
   "execution_count": 43,
   "metadata": {},
   "outputs": [
    {
     "name": "stdout",
     "output_type": "stream",
     "text": [
      "Employee Name: \t\t Zunaib \n",
      " Employee Name: \t\t Bilal \n",
      "\n"
     ]
    }
   ],
   "source": [
    "print(\"Employee Name: \\t\\t\", zunaib.name,\"\\n\",\"Employee Name: \\t\\t\", bilal.name, \"\\n\")\n",
    "#print(\"Employee Name: \\t\\t\", bilal.name, \"\\n\")"
   ]
  },
  {
   "cell_type": "code",
   "execution_count": 44,
   "metadata": {},
   "outputs": [],
   "source": [
    "class Employee:\n",
    "    pass\n",
    "\n",
    "zunaib = Employee()\n",
    "\n",
    "bilal = Employee()\n",
    "\n",
    "zunaib.name = \"Zunaib\"\n",
    "zunaib.age = 20\n",
    "zunaib.salary = 15000\n",
    "\n",
    "\n",
    "bilal.name = \"Bilal\"\n",
    "bilal.age = 22\n",
    "bilal.salary = 25000\n",
    "\n"
   ]
  },
  {
   "cell_type": "code",
   "execution_count": 45,
   "metadata": {},
   "outputs": [
    {
     "data": {
      "text/plain": [
       "'Zunaib'"
      ]
     },
     "execution_count": 45,
     "metadata": {},
     "output_type": "execute_result"
    }
   ],
   "source": [
    "zunaib.name"
   ]
  },
  {
   "cell_type": "code",
   "execution_count": 53,
   "metadata": {},
   "outputs": [],
   "source": [
    "class Employee:\n",
    "    \n",
    "    def __init__(self, name, age, salary):\n",
    "        self.name = name\n",
    "        self.age = age\n",
    "        self.salary = salary      \n",
    "        \n",
    "    def empInfo(self):\n",
    "        return f\"Employee Name: {self.name}. Employee Age: {self.age}. Employee Salary: {self.salary}.\"\n",
    "        \n",
    "zunaib = Employee(\"Zunaib\", 20, 12000)\n",
    "\n",
    "bilal = Employee(\"Bilal\", 15, 8000)\n",
    "\n"
   ]
  },
  {
   "cell_type": "code",
   "execution_count": 55,
   "metadata": {},
   "outputs": [
    {
     "data": {
      "text/plain": [
       "'Employee Name: Zunaib. Employee Age: 20. Employee Salary: 12000.'"
      ]
     },
     "execution_count": 55,
     "metadata": {},
     "output_type": "execute_result"
    }
   ],
   "source": [
    "zunaib.empInfo()"
   ]
  },
  {
   "cell_type": "code",
   "execution_count": 59,
   "metadata": {},
   "outputs": [
    {
     "name": "stdout",
     "output_type": "stream",
     "text": [
      "Name: zunaib. Age: 20. City: Karachi \n"
     ]
    }
   ],
   "source": [
    "a = \"zunaib\"\n",
    "b = 20\n",
    "c = \"Karachi\"\n",
    "\n",
    "print(f\"Name: {a}. Age: {b}. City: {c} \")"
   ]
  },
  {
   "cell_type": "code",
   "execution_count": 62,
   "metadata": {},
   "outputs": [],
   "source": [
    "class Patient:\n",
    "    \n",
    "    def __init__(self, name, age, city):\n",
    "        self.name = name\n",
    "        self.age = age\n",
    "        self.city = city      \n",
    "        \n",
    "        \n",
    "pid001 = Patient(\"Zunaib\", 20, \"Karachi\")\n",
    "\n",
    "pid002 = Patient(\"Abdullah\", 15, \"Islamabad\")\n",
    "\n",
    "pid001.name = \"Amna\"\n"
   ]
  },
  {
   "cell_type": "code",
   "execution_count": 64,
   "metadata": {},
   "outputs": [
    {
     "data": {
      "text/plain": [
       "'Amna'"
      ]
     },
     "execution_count": 64,
     "metadata": {},
     "output_type": "execute_result"
    }
   ],
   "source": [
    "pid001.name"
   ]
  },
  {
   "cell_type": "code",
   "execution_count": 66,
   "metadata": {},
   "outputs": [
    {
     "data": {
      "text/plain": [
       "'Karachi'"
      ]
     },
     "execution_count": 66,
     "metadata": {},
     "output_type": "execute_result"
    }
   ],
   "source": [
    "pid001.city"
   ]
  },
  {
   "cell_type": "code",
   "execution_count": null,
   "metadata": {},
   "outputs": [],
   "source": []
  }
 ],
 "metadata": {
  "kernelspec": {
   "display_name": "Python 3",
   "language": "python",
   "name": "python3"
  },
  "language_info": {
   "codemirror_mode": {
    "name": "ipython",
    "version": 3
   },
   "file_extension": ".py",
   "mimetype": "text/x-python",
   "name": "python",
   "nbconvert_exporter": "python",
   "pygments_lexer": "ipython3",
   "version": "3.8.3"
  }
 },
 "nbformat": 4,
 "nbformat_minor": 4
}
